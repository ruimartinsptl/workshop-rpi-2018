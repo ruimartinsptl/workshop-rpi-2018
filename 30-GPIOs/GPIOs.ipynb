{
 "cells": [
  {
   "cell_type": "markdown",
   "metadata": {},
   "source": [
    "![GPIOs](http://webofthings.org/wp-content/uploads/2016/10/pi-gpio.png)"
   ]
  },
  {
   "cell_type": "code",
   "execution_count": null,
   "metadata": {},
   "outputs": [],
   "source": []
  },
  {
   "cell_type": "code",
   "execution_count": null,
   "metadata": {},
   "outputs": [],
   "source": [
    "import time\n",
    "import RPi.GPIO as GPIO\n",
    "print(\"GPIO VERSION:\", GPIO.VERSION)"
   ]
  },
  {
   "cell_type": "code",
   "execution_count": null,
   "metadata": {},
   "outputs": [],
   "source": [
    "# Explicar diferenca entre GPIO.BOARD e GPIO.BCM\n",
    "# The GPIO.BOARD option specifies that you are referring to the pins by the number of the pin the the plug - i.e the numbers printed on the board (e.g. P1) and in the middle of the diagrams below.\n",
    "# The GPIO.BCM option means that you are referring to the pins by the \"Broadcom SOC channel\" number, these are the numbers after \"GPIO\".\n",
    "# Unfortunately the BCM numbers changed between versions of the Pi1 Model B\n",
    "GPIO.setmode(GPIO.BCM)"
   ]
  },
  {
   "cell_type": "code",
   "execution_count": null,
   "metadata": {},
   "outputs": [],
   "source": [
    "PIN_LED_GREEN = 25\n",
    "PIN_LED_YELLOW = 23\n",
    "PIN_LED_RED = 17\n",
    "PIN_MOTOR = 14\n",
    "PIN_INTERRUPTOR = 11\n",
    "GPIO.setup(PIN_LED_GREEN, GPIO.OUT)\n",
    "GPIO.setup(PIN_LED_YELLOW, GPIO.OUT)\n",
    "GPIO.setup(PIN_LED_RED, GPIO.OUT)\n",
    "GPIO.setup(PIN_MOTOR, GPIO.OUT)\n",
    "GPIO.setup(PIN_INTERRUPTOR, GPIO.IN, pull_up_down=GPIO.PUD_UP) # GPIO.setup(PIN_INTERRUPTOR, GPIO.IN, pull_up_down=GPIO.PUD_DOWN)\n"
   ]
  },
  {
   "cell_type": "code",
   "execution_count": null,
   "metadata": {},
   "outputs": [],
   "source": [
    "def set_leds(pin):\n",
    "    time.sleep(.1)\n",
    "    estado = GPIO.input(PIN_INTERRUPTOR)\n",
    "    GPIO.output(PIN_LED_GREEN, estado)\n",
    "    GPIO.output(PIN_LED_YELLOW, estado)\n",
    "    GPIO.output(PIN_LED_RED, estado)\n",
    "    \n",
    "def pisca_pisca():\n",
    "    for x in range(5):\n",
    "        GPIO.output(PIN_LED_GREEN, GPIO.HIGH)\n",
    "        GPIO.output(PIN_LED_YELLOW, GPIO.HIGH)\n",
    "        GPIO.output(PIN_LED_RED, GPIO.HIGH)\n",
    "        time.sleep(0.5)\n",
    "        GPIO.output(PIN_LED_GREEN, GPIO.LOW)\n",
    "        GPIO.output(PIN_LED_YELLOW, GPIO.LOW)\n",
    "        GPIO.output(PIN_LED_RED, GPIO.LOW)\n",
    "        time.sleep(0.5)"
   ]
  },
  {
   "cell_type": "code",
   "execution_count": null,
   "metadata": {},
   "outputs": [],
   "source": [
    "pisca_pisca()"
   ]
  },
  {
   "cell_type": "code",
   "execution_count": null,
   "metadata": {},
   "outputs": [],
   "source": [
    "pwm = GPIO.PWM(PIN_MOTOR, 50)\n",
    "pwm.start(0)"
   ]
  },
  {
   "cell_type": "code",
   "execution_count": null,
   "metadata": {},
   "outputs": [],
   "source": [
    "def SetAngle(angle, delay=0.2):\n",
    "\tduty = angle / 18 + 2\n",
    "\tGPIO.output(PIN_MOTOR, True)\n",
    "\tpwm.ChangeDutyCycle(duty)\n",
    "\ttime.sleep(delay)\n",
    "\tGPIO.output(PIN_MOTOR, False)\n",
    "\tpwm.ChangeDutyCycle(0)"
   ]
  },
  {
   "cell_type": "code",
   "execution_count": null,
   "metadata": {},
   "outputs": [],
   "source": [
    "SetAngle(0, delay=1)"
   ]
  },
  {
   "cell_type": "code",
   "execution_count": null,
   "metadata": {},
   "outputs": [],
   "source": [
    "SetAngle(180, delay=1)"
   ]
  },
  {
   "cell_type": "code",
   "execution_count": null,
   "metadata": {},
   "outputs": [],
   "source": [
    "for x in range(int(180/10)):\n",
    "    SetAngle(x*10)"
   ]
  },
  {
   "cell_type": "code",
   "execution_count": null,
   "metadata": {},
   "outputs": [],
   "source": [
    "pwm.stop()"
   ]
  },
  {
   "cell_type": "code",
   "execution_count": null,
   "metadata": {},
   "outputs": [],
   "source": [
    "# Adicionar interrupções:"
   ]
  },
  {
   "cell_type": "code",
   "execution_count": null,
   "metadata": {},
   "outputs": [],
   "source": []
  },
  {
   "cell_type": "code",
   "execution_count": null,
   "metadata": {},
   "outputs": [],
   "source": [
    "# GPIO.add_event_detect(PIN_INTERRUPTOR, GPIO.FALLING, callback=pisca_pisca, bouncetime=100)"
   ]
  },
  {
   "cell_type": "code",
   "execution_count": null,
   "metadata": {},
   "outputs": [],
   "source": [
    "GPIO.add_event_detect(PIN_INTERRUPTOR, GPIO.BOTH, callback=set_leds, bouncetime=100)"
   ]
  },
  {
   "cell_type": "code",
   "execution_count": null,
   "metadata": {},
   "outputs": [],
   "source": [
    "GPIO.cleanup()"
   ]
  },
  {
   "cell_type": "code",
   "execution_count": null,
   "metadata": {},
   "outputs": [],
   "source": []
  },
  {
   "cell_type": "code",
   "execution_count": null,
   "metadata": {},
   "outputs": [],
   "source": []
  }
 ],
 "metadata": {
  "kernelspec": {
   "display_name": "Python 3",
   "language": "python",
   "name": "python3"
  },
  "language_info": {
   "codemirror_mode": {
    "name": "ipython",
    "version": 3
   },
   "file_extension": ".py",
   "mimetype": "text/x-python",
   "name": "python",
   "nbconvert_exporter": "python",
   "pygments_lexer": "ipython3",
   "version": "3.5.3"
  }
 },
 "nbformat": 4,
 "nbformat_minor": 2
}
