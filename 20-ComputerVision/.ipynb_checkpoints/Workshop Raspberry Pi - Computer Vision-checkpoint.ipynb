{
 "cells": [
  {
   "cell_type": "markdown",
   "metadata": {},
   "source": [
    "Install dependencies:\n",
    "\n",
    "pip install opencv-contrib-python or conda install -c conda-forge opencv or (...)"
   ]
  },
  {
   "cell_type": "code",
   "execution_count": 8,
   "metadata": {},
   "outputs": [
    {
     "name": "stdout",
     "output_type": "stream",
     "text": [
      "('Python is running from:', '/usr/local/anaconda3/envs/workshop-rpi-python27/bin/python')\n",
      "('Python Version:', '2.7.16 |Anaconda, Inc.| (default, Mar 14 2019, 16:24:02) \\n[GCC 4.2.1 Compatible Clang 4.0.1 (tags/RELEASE_401/final)]')\n",
      "('OpenCV version:', '4.0.1')\n"
     ]
    }
   ],
   "source": [
    "import sys\n",
    "print(\"Python is running from:\", sys.executable)\n",
    "print(\"Python Version:\", sys.version)\n",
    "import cv2\n",
    "print(\"OpenCV version:\", cv2.__version__)\n",
    "import numpy as np\n",
    "import os"
   ]
  },
  {
   "cell_type": "code",
   "execution_count": 2,
   "metadata": {},
   "outputs": [
    {
     "name": "stdout",
     "output_type": "stream",
     "text": [
      "4.0.1\n"
     ]
    }
   ],
   "source": []
  },
  {
   "cell_type": "code",
   "execution_count": 3,
   "metadata": {},
   "outputs": [],
   "source": []
  },
  {
   "cell_type": "code",
   "execution_count": null,
   "metadata": {},
   "outputs": [],
   "source": []
  }
 ],
 "metadata": {
  "kernelspec": {
   "display_name": "Python [conda env:workshop-rpi-python27] *",
   "language": "python",
   "name": "conda-env-workshop-rpi-python27-py"
  },
  "language_info": {
   "codemirror_mode": {
    "name": "ipython",
    "version": 2
   },
   "file_extension": ".py",
   "mimetype": "text/x-python",
   "name": "python",
   "nbconvert_exporter": "python",
   "pygments_lexer": "ipython2",
   "version": "2.7.16"
  }
 },
 "nbformat": 4,
 "nbformat_minor": 2
}
